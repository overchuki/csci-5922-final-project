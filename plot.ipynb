{
 "cells": [
  {
   "cell_type": "code",
   "execution_count": 7,
   "id": "a92615c5",
   "metadata": {},
   "outputs": [],
   "source": [
    "import matplotlib.pyplot as plt\n",
    "import numpy as np\n",
    "import pickle as pkl"
   ]
  },
  {
   "cell_type": "code",
   "execution_count": 17,
   "id": "188f3f31",
   "metadata": {},
   "outputs": [],
   "source": [
    "with open(\"results_1.pkl\", \"rb\") as f:\n",
    "    results = pkl.load(f)"
   ]
  },
  {
   "cell_type": "code",
   "execution_count": 18,
   "id": "8e3260b4",
   "metadata": {},
   "outputs": [
    {
     "data": {
      "text/plain": [
       "{'train_losses': [4.501920859018962],\n",
       " 'avg_train_accuracies': [0.011111111380159855],\n",
       " 'test_losses': [4.499199787775676],\n",
       " 'test_accuracies': array([0., 0., 0., 0., 0., 0., 0., 0., 0., 0., 0., 0., 0., 0., 0., 0., 0.,\n",
       "        0., 0., 0., 0., 0., 0., 0., 0., 0., 0., 0., 0., 0., 0., 0., 0., 0.,\n",
       "        0., 0., 0., 0., 0., 0., 0., 0., 0., 0., 0., 0., 0., 0., 0., 0., 0.,\n",
       "        0., 0., 0., 0., 0., 0., 0., 0., 0., 0., 0., 0., 0., 0., 0., 0., 0.,\n",
       "        0., 0., 0., 0., 0., 0., 0., 0., 0., 0., 0., 0., 0., 0., 0., 0., 0.,\n",
       "        0., 0., 0., 1., 0.], dtype=float32),\n",
       " 'avg_test_accuracies': [0.011111111380159855],\n",
       " 'test_precision': array([0.       , 0.       , 0.       , 0.       , 0.       , 0.       ,\n",
       "        0.       , 0.       , 0.       , 0.       , 0.       , 0.       ,\n",
       "        0.       , 0.       , 0.       , 0.       , 0.       , 0.       ,\n",
       "        0.       , 0.       , 0.       , 0.       , 0.       , 0.       ,\n",
       "        0.       , 0.       , 0.       , 0.       , 0.       , 0.       ,\n",
       "        0.       , 0.       , 0.       , 0.       , 0.       , 0.       ,\n",
       "        0.       , 0.       , 0.       , 0.       , 0.       , 0.       ,\n",
       "        0.       , 0.       , 0.       , 0.       , 0.       , 0.       ,\n",
       "        0.       , 0.       , 0.       , 0.       , 0.       , 0.       ,\n",
       "        0.       , 0.       , 0.       , 0.       , 0.       , 0.       ,\n",
       "        0.       , 0.       , 0.       , 0.       , 0.       , 0.       ,\n",
       "        0.       , 0.       , 0.       , 0.       , 0.       , 0.       ,\n",
       "        0.       , 0.       , 0.       , 0.       , 0.       , 0.       ,\n",
       "        0.       , 0.       , 0.       , 0.       , 0.       , 0.       ,\n",
       "        0.       , 0.       , 0.       , 0.       , 0.0111276, 0.       ],\n",
       "       dtype=float32),\n",
       " 'test_recall': array([0., 0., 0., 0., 0., 0., 0., 0., 0., 0., 0., 0., 0., 0., 0., 0., 0.,\n",
       "        0., 0., 0., 0., 0., 0., 0., 0., 0., 0., 0., 0., 0., 0., 0., 0., 0.,\n",
       "        0., 0., 0., 0., 0., 0., 0., 0., 0., 0., 0., 0., 0., 0., 0., 0., 0.,\n",
       "        0., 0., 0., 0., 0., 0., 0., 0., 0., 0., 0., 0., 0., 0., 0., 0., 0.,\n",
       "        0., 0., 0., 0., 0., 0., 0., 0., 0., 0., 0., 0., 0., 0., 0., 0., 0.,\n",
       "        0., 0., 0., 1., 0.], dtype=float32),\n",
       " 'test_f1score': array([0.        , 0.        , 0.        , 0.        , 0.        ,\n",
       "        0.        , 0.        , 0.        , 0.        , 0.        ,\n",
       "        0.        , 0.        , 0.        , 0.        , 0.        ,\n",
       "        0.        , 0.        , 0.        , 0.        , 0.        ,\n",
       "        0.        , 0.        , 0.        , 0.        , 0.        ,\n",
       "        0.        , 0.        , 0.        , 0.        , 0.        ,\n",
       "        0.        , 0.        , 0.        , 0.        , 0.        ,\n",
       "        0.        , 0.        , 0.        , 0.        , 0.        ,\n",
       "        0.        , 0.        , 0.        , 0.        , 0.        ,\n",
       "        0.        , 0.        , 0.        , 0.        , 0.        ,\n",
       "        0.        , 0.        , 0.        , 0.        , 0.        ,\n",
       "        0.        , 0.        , 0.        , 0.        , 0.        ,\n",
       "        0.        , 0.        , 0.        , 0.        , 0.        ,\n",
       "        0.        , 0.        , 0.        , 0.        , 0.        ,\n",
       "        0.        , 0.        , 0.        , 0.        , 0.        ,\n",
       "        0.        , 0.        , 0.        , 0.        , 0.        ,\n",
       "        0.        , 0.        , 0.        , 0.        , 0.        ,\n",
       "        0.        , 0.        , 0.        , 0.02201027, 0.        ],\n",
       "       dtype=float32),\n",
       " 'avg_test_precision': 0.00012363996938802302,\n",
       " 'avg_test_recall': 0.011111111380159855,\n",
       " 'avg_test_f1score': 0.00024455858510918915}"
      ]
     },
     "execution_count": 18,
     "metadata": {},
     "output_type": "execute_result"
    }
   ],
   "source": [
    "results"
   ]
  },
  {
   "cell_type": "code",
   "execution_count": 1,
   "id": "67a3e5d6",
   "metadata": {},
   "outputs": [],
   "source": [
    "def plot_loss_accuracy(results) -> None:\n",
    "    fig, ax = plt.subplots(nrows=1, ncols=3, figsize=(16, 4))\n",
    "    fig.subplots_adjust(wspace=0.4)\n",
    "\n",
    "    # ax[0].set_title(\"Loss\")\n",
    "    # ax[0].set_xlabel(\"Epoch\")\n",
    "    # ax[0].plot(results[0][0], label=\"Train Loss\", color=\"blue\")\n",
    "    # ax[0].plot(results[1][0], label=\"Test Loss\", color=\"red\")\n",
    "    # ax[0].legend()\n",
    "    # ax[0].set_ylabel(\"Cross Entropy Loss\")\n",
    "\n",
    "    # ax[1].set_title(\"Accuracy\")\n",
    "    # ax[1].set_xlabel(\"Epoch\")\n",
    "    # ax[1].plot(results[0][1], label=\"Train Accuracy\", color=\"blue\")\n",
    "    # ax[1].plot(results[1][1], label=\"Test Accuracy\", color=\"red\")\n",
    "    # ax[1].legend()\n",
    "    # ax[1].set_ylabel(\"Accuracy (%)\")\n",
    "\n",
    "    # ax[2].set_title(\"Precision and Recall\")\n",
    "    # ax[2].set_xlabel(\"Epoch\")\n",
    "    # ax[2].plot(results[2][0], label=\"Test Precision\", color=\"cyan\")\n",
    "    # ax[2].plot(results[2][1], label=\"Test Recall\", color=\"orange\")\n",
    "    # ax[2].legend()\n",
    "    # ax[2].set_ylabel(\"Precision/Recall Score (0-1)\")"
   ]
  },
  {
   "cell_type": "code",
   "execution_count": 2,
   "id": "466205e0",
   "metadata": {},
   "outputs": [],
   "source": [
    "def plot_improvement_by_class(results) -> None:\n",
    "    pass"
   ]
  },
  {
   "cell_type": "code",
   "execution_count": 3,
   "id": "e1fbece9",
   "metadata": {},
   "outputs": [],
   "source": [
    "def plot_diff_barchart(results) -> None:\n",
    "    pass"
   ]
  },
  {
   "cell_type": "code",
   "execution_count": null,
   "id": "0cac79a4",
   "metadata": {},
   "outputs": [],
   "source": []
  }
 ],
 "metadata": {
  "kernelspec": {
   "display_name": "Python 3",
   "language": "python",
   "name": "python3"
  },
  "language_info": {
   "codemirror_mode": {
    "name": "ipython",
    "version": 3
   },
   "file_extension": ".py",
   "mimetype": "text/x-python",
   "name": "python",
   "nbconvert_exporter": "python",
   "pygments_lexer": "ipython3",
   "version": "3.12.2"
  }
 },
 "nbformat": 4,
 "nbformat_minor": 5
}
